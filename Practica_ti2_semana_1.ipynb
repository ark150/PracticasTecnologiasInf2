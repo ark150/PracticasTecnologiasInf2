{
  "nbformat": 4,
  "nbformat_minor": 0,
  "metadata": {
    "colab": {
      "name": "Practica ti2 semana 1.ipynb",
      "version": "0.3.2",
      "provenance": [],
      "include_colab_link": true
    },
    "kernelspec": {
      "name": "python3",
      "display_name": "Python 3"
    }
  },
  "cells": [
    {
      "cell_type": "markdown",
      "metadata": {
        "id": "view-in-github",
        "colab_type": "text"
      },
      "source": [
        "<a href=\"https://colab.research.google.com/github/ark150/PracticasTecnologiasInf2/blob/master/Practica_ti2_semana_1.ipynb\" target=\"_parent\"><img src=\"https://colab.research.google.com/assets/colab-badge.svg\" alt=\"Open In Colab\"/></a>"
      ]
    },
    {
      "cell_type": "code",
      "metadata": {
        "id": "VCLIlAqAhSeY",
        "colab_type": "code",
        "colab": {
          "base_uri": "https://localhost:8080/",
          "height": 67
        },
        "outputId": "f10371a8-d60c-4f2f-b85e-54f3ac1cd424"
      },
      "source": [
        "import re\n",
        "myString = 'From : readers@packt.com (readers email)'\n",
        "result = re.search('([\\w.-]+)@([\\w.-]+)', myString)\n",
        "if result:\n",
        "  print(result.group(0))\n",
        "  print(result.group(1))\n",
        "  print(result.group(2))"
      ],
      "execution_count": 2,
      "outputs": [
        {
          "output_type": "stream",
          "text": [
            "readers@packt.com\n",
            "readers\n",
            "packt.com\n"
          ],
          "name": "stdout"
        }
      ]
    },
    {
      "cell_type": "code",
      "metadata": {
        "id": "Hkle4sfaiLRN",
        "colab_type": "code",
        "colab": {
          "base_uri": "https://localhost:8080/",
          "height": 34
        },
        "outputId": "68682cab-cc46-419a-c646-80f99fd1626d"
      },
      "source": [
        "import re\n",
        "isIp = re.compile('\\d{1,3}\\.\\d{1,3}\\.\\d{1,3}\\.\\d{1,3}')\n",
        "myString=\"Your IP is this : 192.168.1.254 nada mas esto !,.-12+ 0.267}\"\n",
        "result = re.findall(isIp, myString)\n",
        "print(result)"
      ],
      "execution_count": 11,
      "outputs": [
        {
          "output_type": "stream",
          "text": [
            "['192.168.1.254']\n"
          ],
          "name": "stdout"
        }
      ]
    },
    {
      "cell_type": "code",
      "metadata": {
        "id": "k2f5GnwWjpV8",
        "colab_type": "code",
        "colab": {
          "base_uri": "https://localhost:8080/",
          "height": 34
        },
        "outputId": "74903043-da68-4d99-d7f6-898d14aba30c"
      },
      "source": [
        "import re\n",
        "\n",
        "myString =\"03/04/2001\"\n",
        "isDate= re.match('[0-1][0-9]\\/[0-3][0-9]\\/[1-2][0-9]{3}', myString)\n",
        "if isDate:\n",
        "  print(\"Valid\")\n",
        "else:\n",
        "  print(\"invalid\")"
      ],
      "execution_count": 17,
      "outputs": [
        {
          "output_type": "stream",
          "text": [
            "Valid\n"
          ],
          "name": "stdout"
        }
      ]
    }
  ]
}